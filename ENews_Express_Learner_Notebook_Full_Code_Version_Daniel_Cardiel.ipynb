{
 "cells": [
  {
   "cell_type": "markdown",
   "id": "6yDxo9u0d9Na",
   "metadata": {
    "id": "6yDxo9u0d9Na"
   },
   "source": [
    "# Project Business Statistics: E-news Express\n",
    "\n",
    "**Marks: 60**"
   ]
  },
  {
   "cell_type": "markdown",
   "id": "SrLd-ICEmPSD",
   "metadata": {
    "id": "SrLd-ICEmPSD"
   },
   "source": [
    "## Define Problem Statement and Objectives"
   ]
  },
  {
   "cell_type": "markdown",
   "id": "9Vt1PLLqmXNn",
   "metadata": {
    "id": "9Vt1PLLqmXNn"
   },
   "source": [
    "The design team of the company has researched and created a new landing page that has a new outline & more relevant content shown compared to the old page. In order to test the effectiveness of the new landing page in gathering new subscribers, the Data Science team conducted an experiment by randomly selecting 100 users and dividing them equally into two groups. The existing landing page was served to the first group (control group) and the new landing page to the second group (treatment group). Data regarding the interaction of users in both groups with the two versions of the landing page was collected. Being a data scientist in E-news Express, you have been asked to explore the data and perform a statistical analysis (at a significance level of 5%) to determine the effectiveness of the new landing page in gathering new subscribers for the news portal by answering the following questions:\n",
    "\n",
    "    Do the users spend more time on the new landing page than on the existing landing page?\n",
    "    Is the conversion rate (the proportion of users who visit the landing page and get converted) for the new page greater than the conversion rate for the old page?\n",
    "    Does the converted status depend on the preferred language?\n",
    "    Is the time spent on the new page the same for the different language users?\n"
   ]
  },
  {
   "cell_type": "markdown",
   "id": "a6a3d218",
   "metadata": {
    "id": "a6a3d218"
   },
   "source": [
    "## Import all the necessary libraries"
   ]
  },
  {
   "cell_type": "code",
   "execution_count": 1,
   "id": "658c5dec",
   "metadata": {
    "id": "658c5dec",
    "tags": []
   },
   "outputs": [],
   "source": [
    "# Libraries to help with reading and manipulating data\n",
    "import numpy as np\n",
    "import pandas as pd\n",
    "\n",
    "# Libraries to help with data visualization\n",
    "import matplotlib.pyplot as plt\n",
    "import seaborn as sns\n",
    "%matplotlib inline \n",
    "\n",
    "# Library to help with statistical analysis\n",
    "import scipy.stats as stats "
   ]
  },
  {
   "cell_type": "markdown",
   "id": "6970dd99",
   "metadata": {
    "id": "6970dd99"
   },
   "source": [
    "## Reading the Data into a DataFrame"
   ]
  },
  {
   "cell_type": "code",
   "execution_count": 2,
   "id": "d3b95640",
   "metadata": {
    "id": "d3b95640",
    "tags": []
   },
   "outputs": [],
   "source": [
    "df = pd.read_csv('abtest.csv')"
   ]
  },
  {
   "cell_type": "markdown",
   "id": "9d75cfa2",
   "metadata": {
    "id": "9d75cfa2"
   },
   "source": [
    "## Explore the dataset and extract insights using Exploratory Data Analysis"
   ]
  },
  {
   "cell_type": "markdown",
   "id": "27201534",
   "metadata": {
    "id": "27201534"
   },
   "source": [
    "- Data Overview\n",
    "  - Viewing the first and last few rows of the dataset\n",
    "  - Checking the shape of the dataset\n",
    "  - Getting the statistical summary for the variables\n",
    "- Check for missing values\n",
    "- Check for duplicates"
   ]
  },
  {
   "cell_type": "code",
   "execution_count": 3,
   "id": "e1ad11d4",
   "metadata": {
    "id": "e1ad11d4",
    "tags": []
   },
   "outputs": [
    {
     "data": {
      "text/html": [
       "<div>\n",
       "<style scoped>\n",
       "    .dataframe tbody tr th:only-of-type {\n",
       "        vertical-align: middle;\n",
       "    }\n",
       "\n",
       "    .dataframe tbody tr th {\n",
       "        vertical-align: top;\n",
       "    }\n",
       "\n",
       "    .dataframe thead th {\n",
       "        text-align: right;\n",
       "    }\n",
       "</style>\n",
       "<table border=\"1\" class=\"dataframe\">\n",
       "  <thead>\n",
       "    <tr style=\"text-align: right;\">\n",
       "      <th></th>\n",
       "      <th>user_id</th>\n",
       "      <th>group</th>\n",
       "      <th>landing_page</th>\n",
       "      <th>time_spent_on_the_page</th>\n",
       "      <th>converted</th>\n",
       "      <th>language_preferred</th>\n",
       "    </tr>\n",
       "  </thead>\n",
       "  <tbody>\n",
       "    <tr>\n",
       "      <th>0</th>\n",
       "      <td>546592</td>\n",
       "      <td>control</td>\n",
       "      <td>old</td>\n",
       "      <td>3.48</td>\n",
       "      <td>no</td>\n",
       "      <td>Spanish</td>\n",
       "    </tr>\n",
       "    <tr>\n",
       "      <th>1</th>\n",
       "      <td>546468</td>\n",
       "      <td>treatment</td>\n",
       "      <td>new</td>\n",
       "      <td>7.13</td>\n",
       "      <td>yes</td>\n",
       "      <td>English</td>\n",
       "    </tr>\n",
       "    <tr>\n",
       "      <th>2</th>\n",
       "      <td>546462</td>\n",
       "      <td>treatment</td>\n",
       "      <td>new</td>\n",
       "      <td>4.40</td>\n",
       "      <td>no</td>\n",
       "      <td>Spanish</td>\n",
       "    </tr>\n",
       "    <tr>\n",
       "      <th>3</th>\n",
       "      <td>546567</td>\n",
       "      <td>control</td>\n",
       "      <td>old</td>\n",
       "      <td>3.02</td>\n",
       "      <td>no</td>\n",
       "      <td>French</td>\n",
       "    </tr>\n",
       "    <tr>\n",
       "      <th>4</th>\n",
       "      <td>546459</td>\n",
       "      <td>treatment</td>\n",
       "      <td>new</td>\n",
       "      <td>4.75</td>\n",
       "      <td>yes</td>\n",
       "      <td>Spanish</td>\n",
       "    </tr>\n",
       "    <tr>\n",
       "      <th>5</th>\n",
       "      <td>546558</td>\n",
       "      <td>control</td>\n",
       "      <td>old</td>\n",
       "      <td>5.28</td>\n",
       "      <td>yes</td>\n",
       "      <td>English</td>\n",
       "    </tr>\n",
       "    <tr>\n",
       "      <th>6</th>\n",
       "      <td>546448</td>\n",
       "      <td>treatment</td>\n",
       "      <td>new</td>\n",
       "      <td>5.25</td>\n",
       "      <td>yes</td>\n",
       "      <td>French</td>\n",
       "    </tr>\n",
       "    <tr>\n",
       "      <th>7</th>\n",
       "      <td>546581</td>\n",
       "      <td>control</td>\n",
       "      <td>old</td>\n",
       "      <td>6.53</td>\n",
       "      <td>yes</td>\n",
       "      <td>Spanish</td>\n",
       "    </tr>\n",
       "    <tr>\n",
       "      <th>8</th>\n",
       "      <td>546461</td>\n",
       "      <td>treatment</td>\n",
       "      <td>new</td>\n",
       "      <td>10.71</td>\n",
       "      <td>yes</td>\n",
       "      <td>French</td>\n",
       "    </tr>\n",
       "    <tr>\n",
       "      <th>9</th>\n",
       "      <td>546548</td>\n",
       "      <td>control</td>\n",
       "      <td>old</td>\n",
       "      <td>2.08</td>\n",
       "      <td>no</td>\n",
       "      <td>English</td>\n",
       "    </tr>\n",
       "    <tr>\n",
       "      <th>10</th>\n",
       "      <td>546588</td>\n",
       "      <td>control</td>\n",
       "      <td>old</td>\n",
       "      <td>6.21</td>\n",
       "      <td>yes</td>\n",
       "      <td>Spanish</td>\n",
       "    </tr>\n",
       "    <tr>\n",
       "      <th>11</th>\n",
       "      <td>546546</td>\n",
       "      <td>control</td>\n",
       "      <td>old</td>\n",
       "      <td>2.58</td>\n",
       "      <td>yes</td>\n",
       "      <td>English</td>\n",
       "    </tr>\n",
       "    <tr>\n",
       "      <th>12</th>\n",
       "      <td>546491</td>\n",
       "      <td>treatment</td>\n",
       "      <td>new</td>\n",
       "      <td>5.86</td>\n",
       "      <td>yes</td>\n",
       "      <td>Spanish</td>\n",
       "    </tr>\n",
       "    <tr>\n",
       "      <th>13</th>\n",
       "      <td>546478</td>\n",
       "      <td>treatment</td>\n",
       "      <td>new</td>\n",
       "      <td>6.03</td>\n",
       "      <td>yes</td>\n",
       "      <td>French</td>\n",
       "    </tr>\n",
       "    <tr>\n",
       "      <th>14</th>\n",
       "      <td>546578</td>\n",
       "      <td>control</td>\n",
       "      <td>old</td>\n",
       "      <td>8.72</td>\n",
       "      <td>yes</td>\n",
       "      <td>Spanish</td>\n",
       "    </tr>\n",
       "    <tr>\n",
       "      <th>15</th>\n",
       "      <td>546466</td>\n",
       "      <td>treatment</td>\n",
       "      <td>new</td>\n",
       "      <td>6.27</td>\n",
       "      <td>yes</td>\n",
       "      <td>Spanish</td>\n",
       "    </tr>\n",
       "    <tr>\n",
       "      <th>16</th>\n",
       "      <td>546443</td>\n",
       "      <td>treatment</td>\n",
       "      <td>new</td>\n",
       "      <td>8.73</td>\n",
       "      <td>no</td>\n",
       "      <td>English</td>\n",
       "    </tr>\n",
       "    <tr>\n",
       "      <th>17</th>\n",
       "      <td>546555</td>\n",
       "      <td>control</td>\n",
       "      <td>old</td>\n",
       "      <td>0.40</td>\n",
       "      <td>no</td>\n",
       "      <td>English</td>\n",
       "    </tr>\n",
       "    <tr>\n",
       "      <th>18</th>\n",
       "      <td>546493</td>\n",
       "      <td>control</td>\n",
       "      <td>old</td>\n",
       "      <td>10.30</td>\n",
       "      <td>yes</td>\n",
       "      <td>English</td>\n",
       "    </tr>\n",
       "    <tr>\n",
       "      <th>19</th>\n",
       "      <td>546549</td>\n",
       "      <td>control</td>\n",
       "      <td>old</td>\n",
       "      <td>3.88</td>\n",
       "      <td>yes</td>\n",
       "      <td>English</td>\n",
       "    </tr>\n",
       "    <tr>\n",
       "      <th>20</th>\n",
       "      <td>546560</td>\n",
       "      <td>control</td>\n",
       "      <td>old</td>\n",
       "      <td>2.66</td>\n",
       "      <td>no</td>\n",
       "      <td>French</td>\n",
       "    </tr>\n",
       "    <tr>\n",
       "      <th>21</th>\n",
       "      <td>546584</td>\n",
       "      <td>control</td>\n",
       "      <td>old</td>\n",
       "      <td>7.03</td>\n",
       "      <td>yes</td>\n",
       "      <td>Spanish</td>\n",
       "    </tr>\n",
       "    <tr>\n",
       "      <th>22</th>\n",
       "      <td>546450</td>\n",
       "      <td>treatment</td>\n",
       "      <td>new</td>\n",
       "      <td>3.65</td>\n",
       "      <td>no</td>\n",
       "      <td>English</td>\n",
       "    </tr>\n",
       "    <tr>\n",
       "      <th>23</th>\n",
       "      <td>546475</td>\n",
       "      <td>treatment</td>\n",
       "      <td>new</td>\n",
       "      <td>7.02</td>\n",
       "      <td>yes</td>\n",
       "      <td>English</td>\n",
       "    </tr>\n",
       "    <tr>\n",
       "      <th>24</th>\n",
       "      <td>546456</td>\n",
       "      <td>treatment</td>\n",
       "      <td>new</td>\n",
       "      <td>6.18</td>\n",
       "      <td>no</td>\n",
       "      <td>Spanish</td>\n",
       "    </tr>\n",
       "  </tbody>\n",
       "</table>\n",
       "</div>"
      ],
      "text/plain": [
       "    user_id      group landing_page  time_spent_on_the_page converted  \\\n",
       "0    546592    control          old                    3.48        no   \n",
       "1    546468  treatment          new                    7.13       yes   \n",
       "2    546462  treatment          new                    4.40        no   \n",
       "3    546567    control          old                    3.02        no   \n",
       "4    546459  treatment          new                    4.75       yes   \n",
       "5    546558    control          old                    5.28       yes   \n",
       "6    546448  treatment          new                    5.25       yes   \n",
       "7    546581    control          old                    6.53       yes   \n",
       "8    546461  treatment          new                   10.71       yes   \n",
       "9    546548    control          old                    2.08        no   \n",
       "10   546588    control          old                    6.21       yes   \n",
       "11   546546    control          old                    2.58       yes   \n",
       "12   546491  treatment          new                    5.86       yes   \n",
       "13   546478  treatment          new                    6.03       yes   \n",
       "14   546578    control          old                    8.72       yes   \n",
       "15   546466  treatment          new                    6.27       yes   \n",
       "16   546443  treatment          new                    8.73        no   \n",
       "17   546555    control          old                    0.40        no   \n",
       "18   546493    control          old                   10.30       yes   \n",
       "19   546549    control          old                    3.88       yes   \n",
       "20   546560    control          old                    2.66        no   \n",
       "21   546584    control          old                    7.03       yes   \n",
       "22   546450  treatment          new                    3.65        no   \n",
       "23   546475  treatment          new                    7.02       yes   \n",
       "24   546456  treatment          new                    6.18        no   \n",
       "\n",
       "   language_preferred  \n",
       "0             Spanish  \n",
       "1             English  \n",
       "2             Spanish  \n",
       "3              French  \n",
       "4             Spanish  \n",
       "5             English  \n",
       "6              French  \n",
       "7             Spanish  \n",
       "8              French  \n",
       "9             English  \n",
       "10            Spanish  \n",
       "11            English  \n",
       "12            Spanish  \n",
       "13             French  \n",
       "14            Spanish  \n",
       "15            Spanish  \n",
       "16            English  \n",
       "17            English  \n",
       "18            English  \n",
       "19            English  \n",
       "20             French  \n",
       "21            Spanish  \n",
       "22            English  \n",
       "23            English  \n",
       "24            Spanish  "
      ]
     },
     "execution_count": 3,
     "metadata": {},
     "output_type": "execute_result"
    }
   ],
   "source": [
    "df.head(25)"
   ]
  },
  {
   "cell_type": "code",
   "execution_count": 4,
   "id": "2e5d0bad-c7dd-4643-8acb-7c8868f0249c",
   "metadata": {
    "tags": []
   },
   "outputs": [
    {
     "data": {
      "text/plain": [
       "(100, 6)"
      ]
     },
     "execution_count": 4,
     "metadata": {},
     "output_type": "execute_result"
    }
   ],
   "source": [
    "df.shape"
   ]
  },
  {
   "cell_type": "code",
   "execution_count": 5,
   "id": "63341761-0c1a-49ea-84c3-bd0ec56cd5c2",
   "metadata": {
    "tags": []
   },
   "outputs": [
    {
     "data": {
      "text/html": [
       "<div>\n",
       "<style scoped>\n",
       "    .dataframe tbody tr th:only-of-type {\n",
       "        vertical-align: middle;\n",
       "    }\n",
       "\n",
       "    .dataframe tbody tr th {\n",
       "        vertical-align: top;\n",
       "    }\n",
       "\n",
       "    .dataframe thead th {\n",
       "        text-align: right;\n",
       "    }\n",
       "</style>\n",
       "<table border=\"1\" class=\"dataframe\">\n",
       "  <thead>\n",
       "    <tr style=\"text-align: right;\">\n",
       "      <th></th>\n",
       "      <th>user_id</th>\n",
       "      <th>group</th>\n",
       "      <th>landing_page</th>\n",
       "      <th>time_spent_on_the_page</th>\n",
       "      <th>converted</th>\n",
       "      <th>language_preferred</th>\n",
       "    </tr>\n",
       "  </thead>\n",
       "  <tbody>\n",
       "    <tr>\n",
       "      <th>count</th>\n",
       "      <td>100.000000</td>\n",
       "      <td>100</td>\n",
       "      <td>100</td>\n",
       "      <td>100.000000</td>\n",
       "      <td>100</td>\n",
       "      <td>100</td>\n",
       "    </tr>\n",
       "    <tr>\n",
       "      <th>unique</th>\n",
       "      <td>NaN</td>\n",
       "      <td>2</td>\n",
       "      <td>2</td>\n",
       "      <td>NaN</td>\n",
       "      <td>2</td>\n",
       "      <td>3</td>\n",
       "    </tr>\n",
       "    <tr>\n",
       "      <th>top</th>\n",
       "      <td>NaN</td>\n",
       "      <td>control</td>\n",
       "      <td>old</td>\n",
       "      <td>NaN</td>\n",
       "      <td>yes</td>\n",
       "      <td>Spanish</td>\n",
       "    </tr>\n",
       "    <tr>\n",
       "      <th>freq</th>\n",
       "      <td>NaN</td>\n",
       "      <td>50</td>\n",
       "      <td>50</td>\n",
       "      <td>NaN</td>\n",
       "      <td>54</td>\n",
       "      <td>34</td>\n",
       "    </tr>\n",
       "    <tr>\n",
       "      <th>mean</th>\n",
       "      <td>546517.000000</td>\n",
       "      <td>NaN</td>\n",
       "      <td>NaN</td>\n",
       "      <td>5.377800</td>\n",
       "      <td>NaN</td>\n",
       "      <td>NaN</td>\n",
       "    </tr>\n",
       "    <tr>\n",
       "      <th>std</th>\n",
       "      <td>52.295779</td>\n",
       "      <td>NaN</td>\n",
       "      <td>NaN</td>\n",
       "      <td>2.378166</td>\n",
       "      <td>NaN</td>\n",
       "      <td>NaN</td>\n",
       "    </tr>\n",
       "    <tr>\n",
       "      <th>min</th>\n",
       "      <td>546443.000000</td>\n",
       "      <td>NaN</td>\n",
       "      <td>NaN</td>\n",
       "      <td>0.190000</td>\n",
       "      <td>NaN</td>\n",
       "      <td>NaN</td>\n",
       "    </tr>\n",
       "    <tr>\n",
       "      <th>25%</th>\n",
       "      <td>546467.750000</td>\n",
       "      <td>NaN</td>\n",
       "      <td>NaN</td>\n",
       "      <td>3.880000</td>\n",
       "      <td>NaN</td>\n",
       "      <td>NaN</td>\n",
       "    </tr>\n",
       "    <tr>\n",
       "      <th>50%</th>\n",
       "      <td>546492.500000</td>\n",
       "      <td>NaN</td>\n",
       "      <td>NaN</td>\n",
       "      <td>5.415000</td>\n",
       "      <td>NaN</td>\n",
       "      <td>NaN</td>\n",
       "    </tr>\n",
       "    <tr>\n",
       "      <th>75%</th>\n",
       "      <td>546567.250000</td>\n",
       "      <td>NaN</td>\n",
       "      <td>NaN</td>\n",
       "      <td>7.022500</td>\n",
       "      <td>NaN</td>\n",
       "      <td>NaN</td>\n",
       "    </tr>\n",
       "    <tr>\n",
       "      <th>max</th>\n",
       "      <td>546592.000000</td>\n",
       "      <td>NaN</td>\n",
       "      <td>NaN</td>\n",
       "      <td>10.710000</td>\n",
       "      <td>NaN</td>\n",
       "      <td>NaN</td>\n",
       "    </tr>\n",
       "  </tbody>\n",
       "</table>\n",
       "</div>"
      ],
      "text/plain": [
       "              user_id    group landing_page  time_spent_on_the_page converted  \\\n",
       "count      100.000000      100          100              100.000000       100   \n",
       "unique            NaN        2            2                     NaN         2   \n",
       "top               NaN  control          old                     NaN       yes   \n",
       "freq              NaN       50           50                     NaN        54   \n",
       "mean    546517.000000      NaN          NaN                5.377800       NaN   \n",
       "std         52.295779      NaN          NaN                2.378166       NaN   \n",
       "min     546443.000000      NaN          NaN                0.190000       NaN   \n",
       "25%     546467.750000      NaN          NaN                3.880000       NaN   \n",
       "50%     546492.500000      NaN          NaN                5.415000       NaN   \n",
       "75%     546567.250000      NaN          NaN                7.022500       NaN   \n",
       "max     546592.000000      NaN          NaN               10.710000       NaN   \n",
       "\n",
       "       language_preferred  \n",
       "count                 100  \n",
       "unique                  3  \n",
       "top               Spanish  \n",
       "freq                   34  \n",
       "mean                  NaN  \n",
       "std                   NaN  \n",
       "min                   NaN  \n",
       "25%                   NaN  \n",
       "50%                   NaN  \n",
       "75%                   NaN  \n",
       "max                   NaN  "
      ]
     },
     "execution_count": 5,
     "metadata": {},
     "output_type": "execute_result"
    }
   ],
   "source": [
    "df.describe(include='all')"
   ]
  },
  {
   "cell_type": "code",
   "execution_count": 6,
   "id": "b7e143cf-b6e9-4145-80c7-7c0850fd07e7",
   "metadata": {
    "tags": []
   },
   "outputs": [
    {
     "data": {
      "text/plain": [
       "user_id                   0\n",
       "group                     0\n",
       "landing_page              0\n",
       "time_spent_on_the_page    0\n",
       "converted                 0\n",
       "language_preferred        0\n",
       "dtype: int64"
      ]
     },
     "execution_count": 6,
     "metadata": {},
     "output_type": "execute_result"
    }
   ],
   "source": [
    "df.isna().sum()"
   ]
  },
  {
   "cell_type": "markdown",
   "id": "c67abab7-4f3e-4773-9294-45932b54330e",
   "metadata": {},
   "source": [
    "There are not missing values in the data"
   ]
  },
  {
   "cell_type": "code",
   "execution_count": 7,
   "id": "270fc880-8ace-452c-aea1-56d877c9fed5",
   "metadata": {
    "tags": []
   },
   "outputs": [
    {
     "name": "stdout",
     "output_type": "stream",
     "text": [
      "user_id column has 100 unique values\n",
      "group column has 2 unique values\n",
      "landing_page column has 2 unique values\n",
      "time_spent_on_the_page column has 94 unique values\n",
      "converted column has 2 unique values\n",
      "language_preferred column has 3 unique values\n"
     ]
    }
   ],
   "source": [
    "for x in df.columns:\n",
    "    print(f'{x} column has {df[x].nunique()} unique values')"
   ]
  },
  {
   "cell_type": "markdown",
   "id": "68f3b2c9",
   "metadata": {
    "id": "68f3b2c9"
   },
   "source": [
    "### Univariate Analysis"
   ]
  },
  {
   "cell_type": "markdown",
   "id": "283a4b54-e151-481d-8f76-2bf5b0344a34",
   "metadata": {
    "id": "1932d0f3"
   },
   "source": [
    "#### user_id"
   ]
  },
  {
   "cell_type": "code",
   "execution_count": 8,
   "id": "e8d48f94-2958-40be-8539-aec660ee5cf9",
   "metadata": {
    "tags": []
   },
   "outputs": [
    {
     "name": "stdout",
     "output_type": "stream",
     "text": [
      "the user_id variable is made up of 100 user ids that corriespond to each unique user\n",
      "[546443 546444 546445 546446 546447 546448 546449 546450 546451 546452\n",
      " 546453 546454 546455 546456 546457 546458 546459 546460 546461 546462\n",
      " 546463 546464 546465 546466 546467 546468 546469 546470 546471 546472\n",
      " 546473 546474 546475 546476 546477 546478 546479 546480 546481 546482\n",
      " 546483 546484 546485 546486 546487 546488 546489 546490 546491 546492\n",
      " 546493 546544 546545 546546 546547 546548 546549 546550 546551 546552\n",
      " 546553 546554 546555 546556 546557 546558 546559 546560 546561 546562\n",
      " 546563 546564 546565 546566 546567 546568 546569 546570 546571 546572\n",
      " 546573 546574 546575 546576 546577 546578 546579 546580 546581 546582\n",
      " 546583 546584 546585 546586 546587 546588 546589 546590 546591 546592]\n"
     ]
    }
   ],
   "source": [
    "users = df['user_id'].unique()\n",
    "users.sort()\n",
    "print('the user_id variable is made up of 100 user ids that corriespond to each unique user')\n",
    "print(users)\n"
   ]
  },
  {
   "cell_type": "markdown",
   "id": "f4d2f81d-099b-4c8f-9580-23fade9804b9",
   "metadata": {},
   "source": [
    "#### group"
   ]
  },
  {
   "cell_type": "code",
   "execution_count": 9,
   "id": "3cc4b337-c84c-48e4-a59a-78b18f30e4a2",
   "metadata": {
    "tags": []
   },
   "outputs": [
    {
     "data": {
      "image/png": "[encoded data removed]",
      "text/plain": [
       "<Figure size 640x480 with 1 Axes>"
      ]
     },
     "metadata": {},
     "output_type": "display_data"
    },
    {
     "name": "stdout",
     "output_type": "stream",
     "text": [
      "The group variable is made up of a 2 catergorial values 'control' and 'treatment' of equal counts\n"
     ]
    }
   ],
   "source": [
    "ax = df['group'].value_counts().plot(kind='bar')\n",
    "for container in ax.containers:\n",
    "    ax.bar_label(container)\n",
    "\n",
    "plt.xticks(rotation=0)\n",
    "plt.show()\n",
    "print('The group variable is made up of a 2 catergorial values \\'control\\' and \\'treatment\\' of equal counts')"
   ]
  },
  {
   "cell_type": "markdown",
   "id": "5ed87068-e28d-431d-9159-2db7726e54a5",
   "metadata": {
    "tags": []
   },
   "source": [
    "#### landing_page"
   ]
  },
  {
   "cell_type": "code",
   "execution_count": 10,
   "id": "d99ba6c5-39c1-4452-b340-fd972e0968c6",
   "metadata": {
    "tags": []
   },
   "outputs": [
    {
     "data": {
      "image/png": "[encoded data removed]",
      "text/plain": [
       "<Figure size 640x480 with 1 Axes>"
      ]
     },
     "metadata": {},
     "output_type": "display_data"
    },
    {
     "name": "stdout",
     "output_type": "stream",
     "text": [
      "As expected, the landing_page variable mirrors the group variable\n"
     ]
    }
   ],
   "source": [
    "ax = df['landing_page'].value_counts().plot(kind='bar')\n",
    "for container in ax.containers:\n",
    "    ax.bar_label(container)\n",
    "    \n",
    "plt.xticks(rotation=0)\n",
    "plt.show()\n",
    "print('As expected, the landing_page variable mirrors the group variable')"
   ]
  },
  {
   "cell_type": "markdown",
   "id": "998b16a1-874d-4179-8bbb-cf64ed51ef16",
   "metadata": {},
   "source": [
    "#### time_spent_on_the_page"
   ]
  },
  {
   "cell_type": "code",
   "execution_count": 11,
   "id": "cfc49d24-dc8b-46f6-9c32-f709d8ccaa7c",
   "metadata": {
    "tags": []
   },
   "outputs": [
    {
     "data": {
      "text/plain": [
       "count    100.000000\n",
       "mean       5.377800\n",
       "std        2.378166\n",
       "min        0.190000\n",
       "25%        3.880000\n",
       "50%        5.415000\n",
       "75%        7.022500\n",
       "max       10.710000\n",
       "Name: time_spent_on_the_page, dtype: float64"
      ]
     },
     "execution_count": 11,
     "metadata": {},
     "output_type": "execute_result"
    }
   ],
   "source": [
    "df['time_spent_on_the_page'].describe()"
   ]
  },
  {
   "cell_type": "code",
   "execution_count": 12,
   "id": "0276d88a-634b-4a48-b203-077415b01e25",
   "metadata": {
    "tags": []
   },
   "outputs": [
    {
     "data": {
      "image/png": "[encoded data removed]",
      "text/plain": [
       "<Figure size 640x480 with 1 Axes>"
      ]
     },
     "metadata": {},
     "output_type": "display_data"
    },
    {
     "name": "stdout",
     "output_type": "stream",
     "text": [
      "The average time spent on the landing page was 5.38\n",
      "The time_spent_on_the_page variable looks normally distributed\n"
     ]
    }
   ],
   "source": [
    "ax = sns.histplot(data=df, x=df['time_spent_on_the_page'], kde=True, bins=10)\n",
    "for container in ax.containers:\n",
    "    ax.bar_label(container)\n",
    "plt.show()\n",
    "print(f'The average time spent on the landing page was {round(df[\"time_spent_on_the_page\"].mean(), 2)}\\n'\n",
    "'The time_spent_on_the_page variable looks normally distributed')"
   ]
  },
  {
   "cell_type": "markdown",
   "id": "6c5eb618-03bf-4a8e-9a87-075eb89fde0e",
   "metadata": {},
   "source": [
    "#### converted"
   ]
  },
  {
   "cell_type": "code",
   "execution_count": 13,
   "id": "1d7baabf-6ca5-4c49-9ca6-6bda14a82121",
   "metadata": {
    "tags": []
   },
   "outputs": [
    {
     "data": {
      "image/png": "[encoded data removed]",
      "text/plain": [
       "<Figure size 640x480 with 1 Axes>"
      ]
     },
     "metadata": {},
     "output_type": "display_data"
    },
    {
     "name": "stdout",
     "output_type": "stream",
     "text": [
      "The converted variable is a categorical 'yes' or 'no' value. There 54 users that were converted\n"
     ]
    }
   ],
   "source": [
    "ax = df['converted'].value_counts().plot(kind='bar')\n",
    "\n",
    "for container in ax.containers:\n",
    "    ax.bar_label(container)\n",
    "    \n",
    "plt.xticks(rotation=0)\n",
    "plt.show()\n",
    "print('The converted variable is a categorical \\'yes\\' or \\'no\\' value. There 54 users that were converted')"
   ]
  },
  {
   "cell_type": "markdown",
   "id": "d3957323-67f5-45cd-9878-0cc59acbf89f",
   "metadata": {},
   "source": [
    "#### language_preferred"
   ]
  },
  {
   "cell_type": "code",
   "execution_count": 14,
   "id": "3f4482e4-8e86-416a-b720-a1b3ba3e496a",
   "metadata": {
    "tags": []
   },
   "outputs": [
    {
     "data": {
      "image/png": "[encoded data removed]",
      "text/plain": [
       "<Figure size 640x480 with 1 Axes>"
      ]
     },
     "metadata": {},
     "output_type": "display_data"
    },
    {
     "name": "stdout",
     "output_type": "stream",
     "text": [
      "The language_preferred variable is categorical. The 3 languages are very close to being equal in count, with english being the smallest by 2 users.\n"
     ]
    }
   ],
   "source": [
    "ax = df['language_preferred'].value_counts().plot(kind='bar')\n",
    "for container in ax.containers:\n",
    "    ax.bar_label(container)\n",
    "    \n",
    "plt.xticks(rotation=0)\n",
    "plt.show()\n",
    "print('The language_preferred variable is categorical. The 3 languages are very close to being equal in count, with english being the smallest by 2 users.')"
   ]
  },
  {
   "cell_type": "markdown",
   "id": "fad2de2f",
   "metadata": {
    "id": "fad2de2f"
   },
   "source": [
    "### Bivariate Analysis"
   ]
  },
  {
   "cell_type": "markdown",
   "id": "f2f0f53c-cc56-4499-8678-0d0c00b4e06e",
   "metadata": {
    "id": "58e9a1d0",
    "tags": []
   },
   "source": [
    "#### group vs time_spent_on_the_page"
   ]
  },
  {
   "cell_type": "code",
   "execution_count": 15,
   "id": "ffd12b0d-2145-4f3a-a483-3992ee9fc181",
   "metadata": {
    "tags": []
   },
   "outputs": [
    {
     "data": {
      "image/png": "[encoded data removed]",
      "text/plain": [
       "<Figure size 640x480 with 1 Axes>"
      ]
     },
     "metadata": {},
     "output_type": "display_data"
    },
    {
     "name": "stdout",
     "output_type": "stream",
     "text": [
      "The control group's mean time is 4.53. The treatment group's mean time is 6.22\n"
     ]
    }
   ],
   "source": [
    "sns.boxplot(data=df, x='group', y='time_spent_on_the_page')\n",
    "plt.show()\n",
    "print(f'The control group\\'s mean time is {round(df[df[\"group\"] == \"control\"][\"time_spent_on_the_page\"].mean(), 2)}. The treatment group\\'s mean time is {round(df[df[\"group\"] == \"treatment\"][\"time_spent_on_the_page\"].mean(), 2)}')\n"
   ]
  },
  {
   "cell_type": "markdown",
   "id": "05b5012b-c12e-4b1b-b8bf-76c42f1d9e95",
   "metadata": {},
   "source": [
    "#### group vs converted"
   ]
  },
  {
   "cell_type": "code",
   "execution_count": 16,
   "id": "9128f54a-eb0c-4d87-9a44-82ff2b0ae62e",
   "metadata": {
    "tags": []
   },
   "outputs": [
    {
     "data": {
      "image/png": "[encoded data removed]",
      "text/plain": [
       "<Figure size 640x480 with 1 Axes>"
      ]
     },
     "metadata": {},
     "output_type": "display_data"
    },
    {
     "name": "stdout",
     "output_type": "stream",
     "text": [
      "The control group had of their users that were not converted. The treatment group has more of their users that were converted.\n"
     ]
    }
   ],
   "source": [
    "ax = df.groupby('group')['converted'].value_counts().unstack().plot(kind='bar')\n",
    "for container in ax.containers:\n",
    "    ax.bar_label(container)\n",
    "\n",
    "plt.show()\n",
    "print('The control group had of their users that were not converted. The treatment group has more of their users that were converted.')"
   ]
  },
  {
   "cell_type": "markdown",
   "id": "964c8efb-2880-46a5-9788-e66d459bef4d",
   "metadata": {
    "tags": []
   },
   "source": [
    "#### group vs language_preferred"
   ]
  },
  {
   "cell_type": "code",
   "execution_count": 17,
   "id": "8f4886ea-660c-4c48-b4d3-eefb5c70237c",
   "metadata": {
    "tags": []
   },
   "outputs": [
    {
     "data": {
      "image/png": "[encoded data removed]",
      "text/plain": [
       "<Figure size 640x480 with 1 Axes>"
      ]
     },
     "metadata": {},
     "output_type": "display_data"
    },
    {
     "name": "stdout",
     "output_type": "stream",
     "text": [
      "Both groups had the same amount of users that preferred English, French, and Spanish.\n"
     ]
    }
   ],
   "source": [
    "ax = df.groupby('group')['language_preferred'].value_counts().unstack().plot(kind='bar')\n",
    "for container in ax.containers:\n",
    "    ax.bar_label(container)\n",
    "\n",
    "plt.show()\n",
    "print('Both groups had the same amount of users that preferred English, French, and Spanish.')"
   ]
  },
  {
   "cell_type": "markdown",
   "id": "1893696f-b766-41d7-8c15-db4756568989",
   "metadata": {},
   "source": [
    "#### landing_page vs time_spent_on_the_page"
   ]
  },
  {
   "cell_type": "code",
   "execution_count": 18,
   "id": "b7361cec-974e-4b61-800c-21c5a37a2182",
   "metadata": {
    "tags": []
   },
   "outputs": [
    {
     "data": {
      "image/png": "[encoded data removed]",
      "text/plain": [
       "<Figure size 640x480 with 1 Axes>"
      ]
     },
     "metadata": {},
     "output_type": "display_data"
    },
    {
     "name": "stdout",
     "output_type": "stream",
     "text": [
      "The users mean time on the old landing page is 4.53. The users mean time on the old landing page is 6.22\n",
      "As to be expected, this mirrors what we found when we analyzed group vs time_spent_on_the_page\n"
     ]
    }
   ],
   "source": [
    "sns.boxplot(data=df, x='landing_page', y='time_spent_on_the_page')\n",
    "plt.show()\n",
    "print(f'The users mean time on the old landing page is {round(df[df[\"landing_page\"] == \"old\"][\"time_spent_on_the_page\"].mean(), 2)}. The users mean time on the old landing page is {round(df[df[\"landing_page\"] == \"new\"][\"time_spent_on_the_page\"].mean(), 2)}')\n",
    "print('As to be expected, this mirrors what we found when we analyzed group vs time_spent_on_the_page')"
   ]
  },
  {
   "cell_type": "markdown",
   "id": "d2a9f7b3-de4b-4004-be39-600dfc9e524d",
   "metadata": {},
   "source": [
    "#### landing_page vs converted"
   ]
  },
  {
   "cell_type": "code",
   "execution_count": 19,
   "id": "2e7ef534-2817-48f1-a06a-e1f4ebd1916b",
   "metadata": {
    "tags": []
   },
   "outputs": [
    {
     "data": {
      "image/png": "[encoded data removed]",
      "text/plain": [
       "<Figure size 640x480 with 1 Axes>"
      ]
     },
     "metadata": {},
     "output_type": "display_data"
    },
    {
     "name": "stdout",
     "output_type": "stream",
     "text": [
      "The old group had more of their users that were not converted. The new group has more of their users that were converted.\n",
      "As to be expected, this mirrors what we found when we analyzed group vs converted\n"
     ]
    }
   ],
   "source": [
    "order=['old', 'new']\n",
    "ax = df.groupby('landing_page')['converted'].value_counts().unstack().loc[order].plot(kind='bar')\n",
    "for container in ax.containers:\n",
    "    ax.bar_label(container)\n",
    "\n",
    "plt.xticks(rotation=0)\n",
    "plt.show()\n",
    "print('The old group had more of their users that were not converted. The new group has more of their users that were converted.')\n",
    "print('As to be expected, this mirrors what we found when we analyzed group vs converted')"
   ]
  },
  {
   "cell_type": "markdown",
   "id": "30e95835-9e9f-47df-a227-98202ffb7c49",
   "metadata": {
    "tags": []
   },
   "source": [
    "#### landing_page vs language_preferred"
   ]
  },
  {
   "cell_type": "code",
   "execution_count": 20,
   "id": "946a9639-a6e2-4d5f-b1d8-9dca3392c604",
   "metadata": {
    "tags": []
   },
   "outputs": [
    {
     "data": {
      "image/png": "[encoded data removed]",
      "text/plain": [
       "<Figure size 640x480 with 1 Axes>"
      ]
     },
     "metadata": {},
     "output_type": "display_data"
    },
    {
     "name": "stdout",
     "output_type": "stream",
     "text": [
      "Both groups had the same amount of users that preferred English, French, and Spanish.\n",
      "As to be expected, this mirrors what we found when we analyzed group vs converted\n"
     ]
    }
   ],
   "source": [
    "ax = df.groupby('landing_page')['language_preferred'].value_counts().unstack().plot(kind='bar')\n",
    "for container in ax.containers:\n",
    "    ax.bar_label(container)\n",
    "\n",
    "plt.show()\n",
    "print('Both groups had the same amount of users that preferred English, French, and Spanish.')\n",
    "print('As to be expected, this mirrors what we found when we analyzed group vs converted')"
   ]
  },
  {
   "cell_type": "markdown",
   "id": "286ae024-7f2a-493a-b93c-2aa1e19756c9",
   "metadata": {},
   "source": [
    "#### time_spent_on_the_page vs converted"
   ]
  },
  {
   "cell_type": "code",
   "execution_count": 21,
   "id": "8f5fdec5-f03d-48aa-acc7-e53be85a93f8",
   "metadata": {
    "tags": []
   },
   "outputs": [
    {
     "data": {
      "image/png": "[encoded data removed]",
      "text/plain": [
       "<Figure size 640x480 with 1 Axes>"
      ]
     },
     "metadata": {},
     "output_type": "display_data"
    },
    {
     "name": "stdout",
     "output_type": "stream",
     "text": [
      "The non-converted users mean time on the landing page is 3.92. The converted users mean time on the landing page is 6.62\n"
     ]
    }
   ],
   "source": [
    "sns.boxplot(data=df, x='converted', y='time_spent_on_the_page')\n",
    "plt.show()\n",
    "print(f'The non-converted users mean time on the landing page is {round(df[df[\"converted\"] == \"no\"][\"time_spent_on_the_page\"].mean(), 2)}. The converted users mean time on the landing page is {round(df[df[\"converted\"] == \"yes\"][\"time_spent_on_the_page\"].mean(), 2)}')"
   ]
  },
  {
   "cell_type": "code",
   "execution_count": 22,
   "id": "720ee005-9011-47d7-b9ae-250abcbd6908",
   "metadata": {
    "tags": []
   },
   "outputs": [
    {
     "data": {
      "image/png": "[encoded data removed]",
      "text/plain": [
       "<Figure size 640x480 with 1 Axes>"
      ]
     },
     "metadata": {},
     "output_type": "display_data"
    },
    {
     "name": "stdout",
     "output_type": "stream",
     "text": [
      "Both non-converted users and converted users spend more time on the new landing page.\n"
     ]
    }
   ],
   "source": [
    "sns.boxplot(data=df, x='converted', y='time_spent_on_the_page', hue='landing_page')\n",
    "plt.show()\n",
    "print('Both non-converted users and converted users spend more time on the new landing page.')"
   ]
  },
  {
   "cell_type": "markdown",
   "id": "a694a6b5-bbca-4788-9b15-b7cdb17626a3",
   "metadata": {},
   "source": [
    "#### time_spent_on_the_page vs language_preferred"
   ]
  },
  {
   "cell_type": "code",
   "execution_count": 23,
   "id": "ef34e2b1-0bed-4cb5-8fc2-3f211db943e7",
   "metadata": {
    "tags": []
   },
   "outputs": [
    {
     "data": {
      "image/png": "[encoded data removed]",
      "text/plain": [
       "<Figure size 640x480 with 1 Axes>"
      ]
     },
     "metadata": {},
     "output_type": "display_data"
    },
    {
     "name": "stdout",
     "output_type": "stream",
     "text": [
      "The English language users mean time on the landing page is 5.56.\n",
      "The French language users mean time on the landing page is 5.25.\n",
      "The Spanish language users mean time on the landing page is 5.33\n"
     ]
    }
   ],
   "source": [
    "sns.boxplot(data=df, x='language_preferred', y='time_spent_on_the_page')\n",
    "plt.show()\n",
    "print(f'The English language users mean time on the landing page is {round(df[df[\"language_preferred\"] == \"English\"][\"time_spent_on_the_page\"].mean(), 2)}.\\nThe French language users mean time on the landing page is {round(df[df[\"language_preferred\"] == \"French\"][\"time_spent_on_the_page\"].mean(), 2)}.\\nThe Spanish language users mean time on the landing page is {round(df[df[\"language_preferred\"] == \"Spanish\"][\"time_spent_on_the_page\"].mean(), 2)}')\n"
   ]
  },
  {
   "cell_type": "code",
   "execution_count": 24,
   "id": "c0d25f64-92a6-4caa-9a30-fb033bfb6831",
   "metadata": {
    "tags": []
   },
   "outputs": [
    {
     "data": {
      "image/png": "[encoded data removed]",
      "text/plain": [
       "<Figure size 640x480 with 1 Axes>"
      ]
     },
     "metadata": {},
     "output_type": "display_data"
    },
    {
     "name": "stdout",
     "output_type": "stream",
     "text": [
      "The mean time spent on the new landing page is higher for all languages. English had the highest mean time\n",
      "English users mean time was 6.66\n",
      "French users mean time was 6.2\n",
      "Spanish users mean time was 5.84\n",
      "\n"
     ]
    }
   ],
   "source": [
    "sns.boxplot(data=df, x='language_preferred', y='time_spent_on_the_page', hue='landing_page')\n",
    "plt.show()\n",
    "print(f\"The mean time spent on the new landing page is higher for all languages. English had the highest mean time\\n\"\n",
    "      f\"English users mean time was {round(df[(df['language_preferred'] == 'English') & (df['landing_page'] == 'new')]['time_spent_on_the_page'].mean(), 2)}\\n\"\n",
    "      f\"French users mean time was {round(df[(df['language_preferred'] == 'French') & (df['landing_page'] == 'new')]['time_spent_on_the_page'].mean(), 2)}\\n\"\n",
    "      f\"Spanish users mean time was {round(df[(df['language_preferred'] == 'Spanish') & (df['landing_page'] == 'new')]['time_spent_on_the_page'].mean(), 2)}\\n\")\n"
   ]
  },
  {
   "cell_type": "markdown",
   "id": "660b5332-63b9-4082-85eb-7e5995600346",
   "metadata": {},
   "source": [
    "#### converted vs language_preferrred"
   ]
  },
  {
   "cell_type": "code",
   "execution_count": 25,
   "id": "6b5d7419-aa3a-4b05-91af-2f915b60bcc6",
   "metadata": {
    "tags": []
   },
   "outputs": [
    {
     "data": {
      "image/png": "[encoded data removed]",
      "text/plain": [
       "<Figure size 640x480 with 1 Axes>"
      ]
     },
     "metadata": {},
     "output_type": "display_data"
    },
    {
     "name": "stdout",
     "output_type": "stream",
     "text": [
      "French users were the least converted. Engliush users were the most converted.\n"
     ]
    }
   ],
   "source": [
    "ax = df.groupby('converted')['language_preferred'].value_counts().unstack().plot(kind='bar')\n",
    "for container in ax.containers:\n",
    "    ax.bar_label(container)\n",
    "\n",
    "\n",
    "plt.legend(bbox_to_anchor=(1.05, 1), loc='upper left')\n",
    "plt.xticks(rotation=0)\n",
    "plt.show()\n",
    "print('French users were the least converted. Engliush users were the most converted.')\n"
   ]
  },
  {
   "cell_type": "markdown",
   "id": "27906576",
   "metadata": {
    "id": "27906576",
    "tags": []
   },
   "source": [
    "## 1. Do the users spend more time on the new landing page than the existing landing page?"
   ]
  },
  {
   "cell_type": "markdown",
   "id": "e5fdf0c8",
   "metadata": {
    "id": "e5fdf0c8"
   },
   "source": [
    "### Perform Visual Analysis"
   ]
  },
  {
   "cell_type": "code",
   "execution_count": 33,
   "id": "6eZJa41eg21n",
   "metadata": {
    "id": "6eZJa41eg21n"
   },
   "outputs": [
    {
     "data": {
      "image/png": "[encoded data removed]",
      "text/plain": [
       "<Figure size 640x480 with 1 Axes>"
      ]
     },
     "metadata": {},
     "output_type": "display_data"
    },
    {
     "name": "stdout",
     "output_type": "stream",
     "text": [
      "Users spend more time on the new landing page.\n",
      "Old Sample mean: 4.53\n",
      "New Sample mean: 6.22\n",
      "Old sample standard deviation 2.581974849306046\n",
      "New sample standard deviation 1.8170310387878263\n"
     ]
    }
   ],
   "source": [
    "sns.boxplot(data=df, x='landing_page', y='time_spent_on_the_page')\n",
    "plt.show()\n",
    "\n",
    "old_mu = df[df[\"landing_page\"] == \"old\"][\"time_spent_on_the_page\"].mean()\n",
    "new_mu = df[df[\"landing_page\"] == \"new\"][\"time_spent_on_the_page\"].mean()\n",
    "old_sigma = df[df[\"landing_page\"] == \"old\"][\"time_spent_on_the_page\"].std()\n",
    "new_sigma = df[df[\"landing_page\"] == \"new\"][\"time_spent_on_the_page\"].std()\n",
    "\n",
    "print('Users spend more time on the new landing page.')\n",
    "print('Old Sample mean:', round(old_mu, 2))\n",
    "print('New Sample mean:', round(new_mu, 2))\n",
    "print(f'Old sample standard deviation {old_sigma}')\n",
    "print(f'New sample standard deviation {new_sigma}')"
   ]
  },
  {
   "cell_type": "code",
   "execution_count": 27,
   "id": "ce00d8a3-8304-4604-a99c-deed304b1d07",
   "metadata": {
    "tags": []
   },
   "outputs": [
    {
     "name": "stderr",
     "output_type": "stream",
     "text": [
      "C:\\Users\\Daniel\\anaconda3\\Lib\\site-packages\\seaborn\\axisgrid.py:118: UserWarning: The figure layout has changed to tight\n",
      "  self._figure.tight_layout(*args, **kwargs)\n"
     ]
    },
    {
     "data": {
      "image/png": "[encoded data removed]",
      "text/plain": [
       "<Figure size 500x500 with 1 Axes>"
      ]
     },
     "metadata": {},
     "output_type": "display_data"
    }
   ],
   "source": [
    "sns.displot(df.time_spent_on_the_page, kde=True)\n",
    "plt.show()"
   ]
  },
  {
   "cell_type": "markdown",
   "id": "56b3dafd",
   "metadata": {
    "id": "56b3dafd",
    "tags": []
   },
   "source": [
    "### Step 1: Define the null and alternate hypotheses"
   ]
  },
  {
   "cell_type": "markdown",
   "id": "d2ac77ef",
   "metadata": {
    "id": "d2ac77ef"
   },
   "source": [
    "Null Hypothesis: Users spend the same amount of time on the new landing page as they did on the old landing page.\n",
    ">$H_0:\\mu_n = \\mu_o$\n",
    "\n",
    "Alternative Hypothesis: Users spend more time on the new landing page than they did on the old landing page.\n",
    ">$H_a:\\mu_n > \\mu_o$\n"
   ]
  },
  {
   "cell_type": "markdown",
   "id": "c7ee4907",
   "metadata": {
    "id": "c7ee4907"
   },
   "source": [
    "### Step 2: Select Appropriate test"
   ]
  },
  {
   "cell_type": "markdown",
   "id": "2c183cd7",
   "metadata": {
    "id": "2c183cd7"
   },
   "source": [
    "Two Independent Sample T-test for Equality of Means\n",
    "\n",
    "Let's test whether the T-test assumptions are satisfied or not\n",
    "\n",
    "* Continuous data - Yes, the time spent on the page is measured on a continuous scale.\n",
    "* Normally distributed populations - Yes, the sample size is > 30 and looks normally distributed.\n",
    "* Independent populations - As we are taking 100 random samples and spliting them in to two different groups, the samples are from two independent populations.\n",
    "* Unequal population standard deviations - As the sample standard deviations are different, the population standard deviations may be assumed to be different.\n",
    "* Random sampling from the population - Yes, we are informed that the collected sample a simple random sample.\n"
   ]
  },
  {
   "cell_type": "markdown",
   "id": "3f58c9a7",
   "metadata": {
    "id": "3f58c9a7"
   },
   "source": [
    "### Step 3: Decide the significance level"
   ]
  },
  {
   "cell_type": "markdown",
   "id": "92d7d7ee",
   "metadata": {
    "id": "92d7d7ee"
   },
   "source": [
    "As stated in the objectives, $\\alpha$ = 0.05"
   ]
  },
  {
   "cell_type": "markdown",
   "id": "5fed2eac",
   "metadata": {
    "id": "5fed2eac"
   },
   "source": [
    "### Step 4: Collect and prepare data"
   ]
  },
  {
   "cell_type": "code",
   "execution_count": 61,
   "id": "f5a59495",
   "metadata": {
    "id": "f5a59495"
   },
   "outputs": [],
   "source": [
    "alpha = 0.05\n",
    "old_group = df[df['landing_page'] == 'old']['time_spent_on_the_page']\n",
    "new_group = df[df['landing_page'] == 'new']['time_spent_on_the_page']"
   ]
  },
  {
   "cell_type": "markdown",
   "id": "f5c5258d",
   "metadata": {
    "id": "f5c5258d"
   },
   "source": [
    "### Step 5: Calculate the p-value"
   ]
  },
  {
   "cell_type": "code",
   "execution_count": 62,
   "id": "fac8594a",
   "metadata": {
    "id": "fac8594a"
   },
   "outputs": [
    {
     "name": "stdout",
     "output_type": "stream",
     "text": [
      "The p-value is  0.0001392381225166549\n"
     ]
    }
   ],
   "source": [
    "#import the required functions\n",
    "from scipy.stats import ttest_ind\n",
    "\n",
    "# find the p-value\n",
    "test_stat, p_value = ttest_ind(new_group, old_group, equal_var = False, alternative = 'greater')\n",
    "print('The p-value is ', p_value)"
   ]
  },
  {
   "cell_type": "markdown",
   "id": "359b12f8",
   "metadata": {
    "id": "359b12f8"
   },
   "source": [
    "### Step 6: Compare the p-value with $\\alpha$"
   ]
  },
  {
   "cell_type": "code",
   "execution_count": 64,
   "id": "87843a52-7131-4b9c-9ff1-8da183a15665",
   "metadata": {
    "id": "7be47289",
    "tags": []
   },
   "outputs": [
    {
     "name": "stdout",
     "output_type": "stream",
     "text": [
      "True\n"
     ]
    }
   ],
   "source": [
    "if (p_value < alpha ):\n",
    "    print('True')\n",
    "else:\n",
    "    print('False')"
   ]
  },
  {
   "cell_type": "markdown",
   "id": "d9affc84",
   "metadata": {
    "id": "d9affc84"
   },
   "source": [
    "### Step 7:  Draw inference"
   ]
  },
  {
   "cell_type": "markdown",
   "id": "6b16dd4b",
   "metadata": {
    "id": "6b16dd4b"
   },
   "source": [
    "As the p-value (~0.0001) is less than the level of significance, we can reject the null hypothesis. Hence, we do have enough evidence to support the claim that users spend more time on the new landing page than the old landing page. "
   ]
  },
  {
   "cell_type": "markdown",
   "id": "1ad0823a",
   "metadata": {
    "id": "1ad0823a"
   },
   "source": [
    "**A similar approach can be followed to answer the other questions.**"
   ]
  },
  {
   "cell_type": "markdown",
   "id": "353e9d24",
   "metadata": {
    "id": "353e9d24",
    "tags": []
   },
   "source": [
    "## 2. Is the conversion rate (the proportion of users who visit the landing page and get converted) for the new page greater than the conversion rate for the old page?"
   ]
  },
  {
   "cell_type": "code",
   "execution_count": 65,
   "id": "b7f52898",
   "metadata": {
    "id": "b7f52898"
   },
   "outputs": [
    {
     "data": {
      "image/png": "[encoded data removed]",
      "text/plain": [
       "<Figure size 640x480 with 1 Axes>"
      ]
     },
     "metadata": {},
     "output_type": "display_data"
    }
   ],
   "source": [
    "order=['old', 'new']\n",
    "ax = df.groupby('landing_page')['converted'].value_counts().unstack().loc[order].plot(kind='bar')\n",
    "for container in ax.containers:\n",
    "    ax.bar_label(container)\n",
    "\n",
    "plt.xticks(rotation=0)\n",
    "plt.show()"
   ]
  },
  {
   "cell_type": "markdown",
   "id": "9ff54df1-7573-497a-a668-c1ca2abe2664",
   "metadata": {
    "id": "56b3dafd",
    "tags": []
   },
   "source": [
    "### Step 1: Define the null and alternate hypotheses"
   ]
  },
  {
   "cell_type": "markdown",
   "id": "56fa3cac-6a39-4e07-9c0e-d75139644837",
   "metadata": {
    "id": "d2ac77ef"
   },
   "source": [
    "\n",
    "Null Hypothesis: The conversion rate for the new page is equal to the old page\n",
    ">$H_0:p_n = p_o$\n",
    "\n",
    "Alternative Hypothesis: The conversion rate for the new page is greater than the old page\n",
    ">$H_a:p_n > p_o$\n"
   ]
  },
  {
   "cell_type": "markdown",
   "id": "3e4b8d1c-1064-49a8-8e83-96512c73386e",
   "metadata": {
    "id": "c7ee4907"
   },
   "source": [
    "### Step 2: Select Appropriate test"
   ]
  },
  {
   "cell_type": "markdown",
   "id": "0153c9a3-363c-49d7-9907-c56d2653eae3",
   "metadata": {
    "id": "2c183cd7"
   },
   "source": [
    "Two Proportion Z-test"
   ]
  },
  {
   "cell_type": "markdown",
   "id": "f85df1b6-2611-481f-9c18-270039638e2b",
   "metadata": {},
   "source": [
    "Let's test whether the Z-test assumptions are satisfied or not\n",
    "\n",
    "*   Binomally distributed population - Yes, a user is either converted or not converted.\n",
    "*   Random sampling from the population - Yes, we are informed that the collected sample is a simple random sample.  \n",
    "*   Can the binomial distribution approximated to normal distribution - Yes. For binary data, CLT works slower than usual. The standard thing is to check whether np and n(1-p) are greater than or equal to 10. Here, n and p refer to the sample size and sample proportion respectively.\n",
    ">$np_n = 50\\cdot \\frac{33}{50} =33 \\geq 10\\\\\n",
    "n(1-p_n) = 50 \\cdot \\frac{50-33}{50} =17 \\geq 10 \\\\\n",
    "np_o = 50\\cdot \\frac{21}{50} =21 \\geq 10\\\\\n",
    "n(1-p_o) = 50 \\cdot \\frac{50-21}{50} =29 \\geq 10 $\n"
   ]
  },
  {
   "cell_type": "markdown",
   "id": "38dd62e1-59da-4ded-a57c-282b795c7917",
   "metadata": {
    "id": "3f58c9a7"
   },
   "source": [
    "### Step 3: Decide the significance level"
   ]
  },
  {
   "cell_type": "markdown",
   "id": "c863363f-86de-4a36-a77c-d44237aa2654",
   "metadata": {
    "id": "92d7d7ee"
   },
   "source": [
    "As stated in the objectives, $\\alpha$ = 0.05"
   ]
  },
  {
   "cell_type": "markdown",
   "id": "1b12ee58-1587-4930-a166-3ef602bbdf1c",
   "metadata": {
    "id": "5fed2eac"
   },
   "source": [
    "### Step 4: Collect and prepare data"
   ]
  },
  {
   "cell_type": "code",
   "execution_count": 131,
   "id": "11a57d22-93e0-4ca7-be07-ddf0a8ed7352",
   "metadata": {
    "id": "f5a59495"
   },
   "outputs": [],
   "source": [
    "converted_count = np.array([33, 21])\n",
    "\n",
    "nobs = np.array([50, 50])\n"
   ]
  },
  {
   "cell_type": "markdown",
   "id": "ea07e4f4-653f-40c3-b134-ea525426d255",
   "metadata": {
    "id": "f5c5258d"
   },
   "source": [
    "### Step 5: Calculate the p-value"
   ]
  },
  {
   "cell_type": "code",
   "execution_count": 71,
   "id": "5f42a8f9-0497-4848-ac81-64a7f913868f",
   "metadata": {
    "id": "fac8594a"
   },
   "outputs": [
    {
     "name": "stdout",
     "output_type": "stream",
     "text": [
      "The p-value is 0.008026308204056278\n"
     ]
    }
   ],
   "source": [
    "# import the required fuction\n",
    "from statsmodels.stats.proportion import proportions_ztest\n",
    "\n",
    "test_stat, p_value = proportions_ztest(converted_count, nobs, alternative='larger')\n",
    "print('The p-value is ' + str(p_value))"
   ]
  },
  {
   "cell_type": "markdown",
   "id": "8c7d663e-bca0-4465-bfa2-377e8e82f91d",
   "metadata": {
    "id": "359b12f8"
   },
   "source": [
    "### Step 6: Compare the p-value with $\\alpha$"
   ]
  },
  {
   "cell_type": "code",
   "execution_count": 74,
   "id": "c76b9893-544e-4eb8-9bfe-85c1e3b6a36c",
   "metadata": {
    "id": "7be47289"
   },
   "outputs": [
    {
     "name": "stdout",
     "output_type": "stream",
     "text": [
      "True\n"
     ]
    }
   ],
   "source": [
    "if (p_value < alpha ):\n",
    "    print('True')\n",
    "else:\n",
    "    print('False')"
   ]
  },
  {
   "cell_type": "markdown",
   "id": "2508f687-fdc3-4d66-9410-375f5a3e1445",
   "metadata": {
    "id": "d9affc84"
   },
   "source": [
    "### Step 7:  Draw inference"
   ]
  },
  {
   "cell_type": "markdown",
   "id": "5170dd66-594f-4e14-a354-08fa4b1bbb6e",
   "metadata": {
    "id": "6b16dd4b"
   },
   "source": [
    "As the p-value (~0.008) is less than the level of significance, we can reject the null hypothesis. Hence, we do have enough evidence to support the claim that the converstion rate of the new page is greater than the old page."
   ]
  },
  {
   "cell_type": "markdown",
   "id": "d49bfa2d",
   "metadata": {
    "id": "d49bfa2d"
   },
   "source": [
    "## 3. Is the conversion and preferred language are independent or related?"
   ]
  },
  {
   "cell_type": "code",
   "execution_count": 75,
   "id": "b0e63f17",
   "metadata": {
    "id": "b0e63f17",
    "tags": []
   },
   "outputs": [
    {
     "data": {
      "text/html": [
       "<div>\n",
       "<style scoped>\n",
       "    .dataframe tbody tr th:only-of-type {\n",
       "        vertical-align: middle;\n",
       "    }\n",
       "\n",
       "    .dataframe tbody tr th {\n",
       "        vertical-align: top;\n",
       "    }\n",
       "\n",
       "    .dataframe thead th {\n",
       "        text-align: right;\n",
       "    }\n",
       "</style>\n",
       "<table border=\"1\" class=\"dataframe\">\n",
       "  <thead>\n",
       "    <tr style=\"text-align: right;\">\n",
       "      <th>language_preferred</th>\n",
       "      <th>English</th>\n",
       "      <th>French</th>\n",
       "      <th>Spanish</th>\n",
       "    </tr>\n",
       "    <tr>\n",
       "      <th>converted</th>\n",
       "      <th></th>\n",
       "      <th></th>\n",
       "      <th></th>\n",
       "    </tr>\n",
       "  </thead>\n",
       "  <tbody>\n",
       "    <tr>\n",
       "      <th>no</th>\n",
       "      <td>11</td>\n",
       "      <td>19</td>\n",
       "      <td>16</td>\n",
       "    </tr>\n",
       "    <tr>\n",
       "      <th>yes</th>\n",
       "      <td>21</td>\n",
       "      <td>15</td>\n",
       "      <td>18</td>\n",
       "    </tr>\n",
       "  </tbody>\n",
       "</table>\n",
       "</div>"
      ],
      "text/plain": [
       "language_preferred  English  French  Spanish\n",
       "converted                                   \n",
       "no                       11      19       16\n",
       "yes                      21      15       18"
      ]
     },
     "execution_count": 75,
     "metadata": {},
     "output_type": "execute_result"
    }
   ],
   "source": [
    "pd.crosstab(df['converted'],df['language_preferred'])"
   ]
  },
  {
   "cell_type": "markdown",
   "id": "3e808506-847b-4aa0-8321-fd17687f95e4",
   "metadata": {
    "id": "56b3dafd",
    "tags": []
   },
   "source": [
    "### Step 1: Define the null and alternate hypotheses"
   ]
  },
  {
   "cell_type": "markdown",
   "id": "0dadac24-c84b-487f-b424-d8051e86de21",
   "metadata": {
    "id": "d2ac77ef"
   },
   "source": [
    "Null Hypothesis: The conversion rate for the new page is equal to the old page\n",
    ">$H_0:$Conversion is independent of Preferred Language\n",
    "\n",
    "Alternative Hypothesis: The conversion rate for the new page is greater than the old page\n",
    ">$H_a:$Conversion is not independent of Preferred Language\n"
   ]
  },
  {
   "cell_type": "markdown",
   "id": "7573ab4a-d70c-415c-bc56-803da65b433c",
   "metadata": {
    "id": "c7ee4907"
   },
   "source": [
    "### Step 2: Select Appropriate test"
   ]
  },
  {
   "cell_type": "markdown",
   "id": "30e6f99a-5590-4193-9ae0-8dd28dc669ca",
   "metadata": {
    "id": "2c183cd7"
   },
   "source": [
    "Chi-Square Test for Independence"
   ]
  },
  {
   "cell_type": "markdown",
   "id": "2b0de3fb-86e9-4981-9459-bbdfab7c1196",
   "metadata": {},
   "source": [
    "Let's test whether the assumptions are satisfied or not\n",
    "\n",
    "* Categorical variables - Yes\n",
    "* Expected value of the number of sample observations in each level of the variable is at least 5 - Yes, the number of observations in each level is greater than 5.\n",
    "* Random sampling from the population - Yes, we are informed that the collected sample is a simple random sample."
   ]
  },
  {
   "cell_type": "markdown",
   "id": "3f44cc36-17a9-40f1-bf05-a7039b8c59ad",
   "metadata": {
    "id": "3f58c9a7"
   },
   "source": [
    "### Step 3: Decide the significance level"
   ]
  },
  {
   "cell_type": "markdown",
   "id": "6406b583-000f-46eb-b3db-0a5a59ae91bc",
   "metadata": {
    "id": "92d7d7ee"
   },
   "source": [
    "As stated in the objectives, $\\alpha$ = 0.05"
   ]
  },
  {
   "cell_type": "markdown",
   "id": "76c47d84-fb21-4178-a1e6-efd5703cabc1",
   "metadata": {
    "id": "5fed2eac"
   },
   "source": [
    "### Step 4: Collect and prepare data"
   ]
  },
  {
   "cell_type": "code",
   "execution_count": 82,
   "id": "e29a03a0-0ce6-4d9b-aa70-687d0141ef2e",
   "metadata": {
    "id": "f5a59495"
   },
   "outputs": [],
   "source": [
    "observed = pd.crosstab(df['converted'],df['language_preferred'])"
   ]
  },
  {
   "cell_type": "markdown",
   "id": "f71a122c-ce0f-42db-8388-f8182278e39c",
   "metadata": {
    "id": "f5c5258d"
   },
   "source": [
    "### Step 5: Calculate the p-value"
   ]
  },
  {
   "cell_type": "code",
   "execution_count": 83,
   "id": "1fe1c230-d5d0-43d4-b1e7-e16fa2f4a1c4",
   "metadata": {
    "id": "fac8594a"
   },
   "outputs": [
    {
     "name": "stdout",
     "output_type": "stream",
     "text": [
      "The p-value is 0.21298887487543447\n"
     ]
    }
   ],
   "source": [
    "# import the required function\n",
    "from scipy.stats import chi2_contingency\n",
    "\n",
    "chi, p_value, dof, expected = chi2_contingency(observed)\n",
    "print('The p-value is', p_value)"
   ]
  },
  {
   "cell_type": "markdown",
   "id": "d1d12331-b8d5-4baa-9da5-0be382607fc5",
   "metadata": {
    "id": "359b12f8"
   },
   "source": [
    "### Step 6: Compare the p-value with $\\alpha$"
   ]
  },
  {
   "cell_type": "code",
   "execution_count": 80,
   "id": "d40479c1-388d-499b-a1ef-d2e1d8ed662a",
   "metadata": {
    "id": "7be47289"
   },
   "outputs": [
    {
     "name": "stdout",
     "output_type": "stream",
     "text": [
      "False\n"
     ]
    }
   ],
   "source": [
    "if (p_value < alpha ):\n",
    "    print('True')\n",
    "else:\n",
    "    print('False')"
   ]
  },
  {
   "cell_type": "markdown",
   "id": "e1e333c4-e58d-4736-a0a3-5444c92be534",
   "metadata": {
    "id": "d9affc84"
   },
   "source": [
    "### Step 7:  Draw inference"
   ]
  },
  {
   "cell_type": "markdown",
   "id": "c349938b-fa3b-4dc6-8b43-2628773ac3e2",
   "metadata": {
    "id": "6b16dd4b"
   },
   "source": [
    "As the p-value is much greater then the significance level, we fail to reject the null hypothesis. Hence, conversion is independent of preferred language"
   ]
  },
  {
   "cell_type": "markdown",
   "id": "8d585a90",
   "metadata": {
    "id": "8d585a90"
   },
   "source": [
    "## 4. Is the time spent on the new page same for the different language users?"
   ]
  },
  {
   "cell_type": "code",
   "execution_count": 96,
   "id": "b422f395",
   "metadata": {
    "id": "b422f395",
    "tags": []
   },
   "outputs": [
    {
     "data": {
      "image/png": "[encoded data removed]",
      "text/plain": [
       "<Figure size 640x480 with 1 Axes>"
      ]
     },
     "metadata": {},
     "output_type": "display_data"
    }
   ],
   "source": [
    "sns.boxplot(data=df, x='language_preferred', y='time_spent_on_the_page', hue='landing_page')\n",
    "plt.show()"
   ]
  },
  {
   "cell_type": "markdown",
   "id": "1d790980-9110-430a-a162-0cd5a7ff8042",
   "metadata": {
    "id": "56b3dafd",
    "tags": []
   },
   "source": [
    "### Step 1: Define the null and alternate hypotheses"
   ]
  },
  {
   "cell_type": "markdown",
   "id": "2968d0a3-4689-441b-8d8d-f7ecd6214442",
   "metadata": {
    "id": "d2ac77ef"
   },
   "source": [
    "Null Hypothesis: The mean time spent on the new page is the same for the different language users.\n",
    ">$H_0:\\mu_e = \\mu_f = \\mu_s$\n",
    "\n",
    "Alternative Hypothesis: The mean time spent ont he new page is different for the different language users.\n",
    ">$H_a:\\mu_e \\neq \\mu_f \\neq \\mu_s$ (Atleast one of the means is not the same)"
   ]
  },
  {
   "cell_type": "markdown",
   "id": "3e287887-43be-46b4-a164-6a974bbc714b",
   "metadata": {
    "id": "c7ee4907",
    "jp-MarkdownHeadingCollapsed": true,
    "tags": []
   },
   "source": [
    "### Step 2: Select Appropriate test"
   ]
  },
  {
   "cell_type": "markdown",
   "id": "43a3915b-76df-4203-9204-60f911b40514",
   "metadata": {},
   "source": [
    "One-way ANOVA F-Test "
   ]
  },
  {
   "cell_type": "markdown",
   "id": "709886fe-a426-44db-95ad-5086171c905b",
   "metadata": {},
   "source": [
    "**Shapiro-Wilk’s test**\n",
    "\n",
    "We will test the null hypothesis\n",
    "\n",
    ">$H_0:$ The time spent on new page follows a normal distribution\n",
    "\n",
    "against the alternative hypothesis\n",
    "\n",
    ">$H_a:$ The time spent on new page does not follow a normal distribution"
   ]
  },
  {
   "cell_type": "code",
   "execution_count": 119,
   "id": "814c023e-27e4-48df-9ece-95d2ccec0875",
   "metadata": {
    "tags": []
   },
   "outputs": [
    {
     "name": "stdout",
     "output_type": "stream",
     "text": [
      "The p-value is 0.8040016293525696\n"
     ]
    }
   ],
   "source": [
    "time_new = df['time_spent_on_the_page'][df['landing_page'] == 'new']\n",
    "\n",
    "w, p_value = stats.shapiro(time_new) \n",
    "print('The p-value is', p_value)"
   ]
  },
  {
   "cell_type": "markdown",
   "id": "c5d54745-1dde-4c22-8084-421c4405a14b",
   "metadata": {},
   "source": [
    "Since p-value of the test is large, we fail to reject the null hypothesis that the response follows the normal distribution."
   ]
  },
  {
   "cell_type": "markdown",
   "id": "3052c0cd-75a8-483f-979d-5dada0c74814",
   "metadata": {
    "tags": []
   },
   "source": [
    "**Levene’s test**\n",
    "\n",
    "We will test the null hypothesis\n",
    "\n",
    ">$H_0$: All the population variances are equal\n",
    "\n",
    "against the alternative hypothesis\n",
    "\n",
    ">$H_a$: At least one variance is different from the rest"
   ]
  },
  {
   "cell_type": "code",
   "execution_count": 122,
   "id": "4cf5975c-9f40-4e44-85f5-7c5b0bc58df2",
   "metadata": {
    "tags": []
   },
   "outputs": [
    {
     "name": "stdout",
     "output_type": "stream",
     "text": [
      "The p-value is 0.46711357711340173\n"
     ]
    }
   ],
   "source": [
    "from scipy.stats import levene\n",
    "statistic, p_value = levene( df[(df['language_preferred']=='English') & (df['landing_page'] == 'new')]['time_spent_on_the_page'], \n",
    "                                   df[(df['language_preferred']=='French') & (df['landing_page'] == 'new')]['time_spent_on_the_page'], \n",
    "                                   df[(df['language_preferred']=='Spanish') & (df['landing_page'] == 'new')]['time_spent_on_the_page'])\n",
    "# find the p-value\n",
    "print('The p-value is', p_value)"
   ]
  },
  {
   "cell_type": "markdown",
   "id": "fcd6d16c-e7cd-4893-b9f3-35c4487ce80f",
   "metadata": {},
   "source": [
    "Since the p-value is large, we fail to reject the null hypothesis of homogeneity of variances."
   ]
  },
  {
   "cell_type": "markdown",
   "id": "9c1a5ced-0861-47b3-902b-cdd26bb3b64f",
   "metadata": {
    "id": "2c183cd7"
   },
   "source": [
    "Let's test whether the assumptions are satisfied or not\n",
    "\n",
    "* The populations are normally distributed - Yes, the normality assumption is verified using the Shapiro-Wilk’s test.\n",
    "* Samples are independent simple random samples - Yes, we are informed that the collected sample is a simple random sample.\n",
    "* Population variances are equal - Yes, the homogeneity of variance assumption is verified using the Levene's test.\n"
   ]
  },
  {
   "cell_type": "markdown",
   "id": "44b9c713-ca25-4ef6-847d-0f9866fcbb93",
   "metadata": {
    "id": "3f58c9a7"
   },
   "source": [
    "### Step 3: Decide the significance level"
   ]
  },
  {
   "cell_type": "markdown",
   "id": "9ae443a1-f92d-4887-90a4-f847630cdaa2",
   "metadata": {
    "id": "92d7d7ee"
   },
   "source": [
    "As stated in the objectives, $\\alpha$ = 0.05"
   ]
  },
  {
   "cell_type": "markdown",
   "id": "490158e3-8056-4294-9496-57cb855ee999",
   "metadata": {
    "id": "5fed2eac"
   },
   "source": [
    "### Step 4: Collect and prepare data"
   ]
  },
  {
   "cell_type": "code",
   "execution_count": 129,
   "id": "5cb62cbe-f672-4350-83ad-c9dca045df1d",
   "metadata": {
    "id": "f5a59495"
   },
   "outputs": [],
   "source": [
    "english = df[(df['language_preferred']=='English') & (df['landing_page'] == 'new')]['time_spent_on_the_page']\n",
    "french = df[(df['language_preferred']=='French') & (df['landing_page'] == 'new')]['time_spent_on_the_page']\n",
    "spanish = df[(df['language_preferred']=='Spanish') & (df['landing_page'] == 'new')]['time_spent_on_the_page']"
   ]
  },
  {
   "cell_type": "markdown",
   "id": "eafb26a2-28bf-40e1-a085-de3fa0a4cd7a",
   "metadata": {
    "id": "f5c5258d"
   },
   "source": [
    "### Step 5: Calculate the p-value"
   ]
  },
  {
   "cell_type": "code",
   "execution_count": 130,
   "id": "ca246c60-540f-49a0-9b74-a26b8d20ca6f",
   "metadata": {
    "id": "fac8594a"
   },
   "outputs": [
    {
     "name": "stdout",
     "output_type": "stream",
     "text": [
      "The p-value is  0.43204138694325955\n"
     ]
    }
   ],
   "source": [
    "# import the required function\n",
    "from scipy.stats import f_oneway\n",
    "\n",
    "# find the p-value\n",
    "test_stat, p_value = f_oneway(english, french, spanish)\n",
    "print('The p-value is ', p_value)"
   ]
  },
  {
   "cell_type": "markdown",
   "id": "0aba5131-bfc5-4ce2-b232-cf91c0504375",
   "metadata": {
    "id": "359b12f8"
   },
   "source": [
    "### Step 6: Compare the p-value with $\\alpha$"
   ]
  },
  {
   "cell_type": "code",
   "execution_count": 110,
   "id": "4a3d8ada-bb75-4b65-a8f1-6a3c19fd5848",
   "metadata": {
    "id": "7be47289"
   },
   "outputs": [
    {
     "name": "stdout",
     "output_type": "stream",
     "text": [
      "False\n"
     ]
    }
   ],
   "source": [
    "if (p_value < alpha ):\n",
    "    print('True')\n",
    "else:\n",
    "    print('False')"
   ]
  },
  {
   "cell_type": "markdown",
   "id": "3ae29b69-fbed-4341-a7d7-070d6c5e0087",
   "metadata": {
    "id": "d9affc84"
   },
   "source": [
    "### Step 7:  Draw inference"
   ]
  },
  {
   "cell_type": "markdown",
   "id": "13519b57-0175-4486-8d7d-3c194f7a4a1d",
   "metadata": {
    "id": "6b16dd4b"
   },
   "source": [
    "As the p-value is much higher than the significance level, we fail to reject the null hypothesis. Hence, we can conclude that the mean time spent on the new landing page is the same for all language users."
   ]
  },
  {
   "cell_type": "markdown",
   "id": "3acbc947",
   "metadata": {
    "id": "3acbc947"
   },
   "source": [
    "## Conclusion and Business Recommendations"
   ]
  },
  {
   "cell_type": "markdown",
   "id": "21fb1063",
   "metadata": {
    "id": "21fb1063"
   },
   "source": [
    "### Conclusions\n",
    "* Users spend more time on the new landing page than on the old landing page.\n",
    "* The conversion rate for the new page is greater than the conversion rate for the old page.\n",
    "* Converted status does not depend on the preferred language.\n",
    "* The time spent on the new page was not statistically significant between the differnt language users."
   ]
  },
  {
   "cell_type": "markdown",
   "id": "cfe1a6dd-6249-4eb7-8176-ad4bc3ff6cb1",
   "metadata": {},
   "source": [
    "### Buiness Recommendations\n",
    "* The new landing page has shown to increase time on the landing page and increase subscribers. The new page should go to all users."
   ]
  },
  {
   "cell_type": "markdown",
   "id": "U0dAd4i0iCHo",
   "metadata": {
    "id": "U0dAd4i0iCHo"
   },
   "source": [
    "___"
   ]
  }
 ],
 "metadata": {
  "colab": {
   "collapsed_sections": [
    "a6a3d218",
    "6970dd99",
    "9d75cfa2",
    "68f3b2c9",
    "fad2de2f",
    "27906576",
    "e5fdf0c8",
    "56b3dafd",
    "c7ee4907",
    "3f58c9a7",
    "5fed2eac",
    "f5c5258d",
    "359b12f8",
    "d9affc84",
    "353e9d24",
    "d49bfa2d",
    "8d585a90",
    "3acbc947"
   ],
   "name": "ENews_Express_Learner_Notebook_Full_Code v1.1.ipynb",
   "provenance": []
  },
  "kernelspec": {
   "display_name": "Python 3 (ipykernel)",
   "language": "python",
   "name": "python3"
  },
  "language_info": {
   "codemirror_mode": {
    "name": "ipython",
    "version": 3
   },
   "file_extension": ".py",
   "mimetype": "text/x-python",
   "name": "python",
   "nbconvert_exporter": "python",
   "pygments_lexer": "ipython3",
   "version": "3.11.5"
  }
 },
 "nbformat": 4,
 "nbformat_minor": 5
}
